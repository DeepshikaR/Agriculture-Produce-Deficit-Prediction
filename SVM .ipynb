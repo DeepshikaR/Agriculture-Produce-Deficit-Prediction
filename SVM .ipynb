{
 "cells": [
  {
   "cell_type": "markdown",
   "metadata": {},
   "source": [
    "# Import Packages and Dataset"
   ]
  },
  {
   "cell_type": "code",
   "execution_count": 56,
   "metadata": {},
   "outputs": [],
   "source": [
    "from sklearn.model_selection import train_test_split\n",
    "from sklearn import svm\n",
    "from sklearn import metrics\n",
    "import pandas as pd\n",
    "import numpy as np"
   ]
  },
  {
   "cell_type": "code",
   "execution_count": 57,
   "metadata": {},
   "outputs": [
    {
     "data": {
      "text/html": [
       "<div>\n",
       "<style scoped>\n",
       "    .dataframe tbody tr th:only-of-type {\n",
       "        vertical-align: middle;\n",
       "    }\n",
       "\n",
       "    .dataframe tbody tr th {\n",
       "        vertical-align: top;\n",
       "    }\n",
       "\n",
       "    .dataframe thead th {\n",
       "        text-align: right;\n",
       "    }\n",
       "</style>\n",
       "<table border=\"1\" class=\"dataframe\">\n",
       "  <thead>\n",
       "    <tr style=\"text-align: right;\">\n",
       "      <th></th>\n",
       "      <th>Center</th>\n",
       "      <th>Item</th>\n",
       "      <th>Min Price</th>\n",
       "      <th>Max Price</th>\n",
       "      <th>Total Arrival</th>\n",
       "      <th>Year</th>\n",
       "      <th>Month</th>\n",
       "      <th>Min Temp</th>\n",
       "      <th>Max Temp</th>\n",
       "      <th>Wind Speed( )</th>\n",
       "      <th>RainFall(   )</th>\n",
       "      <th>Humidity( )</th>\n",
       "      <th>Cloud( )</th>\n",
       "      <th>Pressure(  )</th>\n",
       "      <th>Yield</th>\n",
       "    </tr>\n",
       "  </thead>\n",
       "  <tbody>\n",
       "    <tr>\n",
       "      <th>0</th>\n",
       "      <td>Chennai</td>\n",
       "      <td>Onion</td>\n",
       "      <td>1902</td>\n",
       "      <td>3089</td>\n",
       "      <td>12860</td>\n",
       "      <td>2010</td>\n",
       "      <td>1</td>\n",
       "      <td>24</td>\n",
       "      <td>27</td>\n",
       "      <td>19</td>\n",
       "      <td>0.7</td>\n",
       "      <td>75</td>\n",
       "      <td>24</td>\n",
       "      <td>1012</td>\n",
       "      <td>0</td>\n",
       "    </tr>\n",
       "    <tr>\n",
       "      <th>1</th>\n",
       "      <td>Chennai</td>\n",
       "      <td>Onion</td>\n",
       "      <td>1589</td>\n",
       "      <td>2409</td>\n",
       "      <td>11570</td>\n",
       "      <td>2010</td>\n",
       "      <td>2</td>\n",
       "      <td>28</td>\n",
       "      <td>24</td>\n",
       "      <td>9</td>\n",
       "      <td>0.0</td>\n",
       "      <td>73</td>\n",
       "      <td>1</td>\n",
       "      <td>1015</td>\n",
       "      <td>1</td>\n",
       "    </tr>\n",
       "    <tr>\n",
       "      <th>2</th>\n",
       "      <td>Chennai</td>\n",
       "      <td>Onion</td>\n",
       "      <td>1122</td>\n",
       "      <td>1968</td>\n",
       "      <td>12680</td>\n",
       "      <td>2010</td>\n",
       "      <td>3</td>\n",
       "      <td>25</td>\n",
       "      <td>31</td>\n",
       "      <td>12</td>\n",
       "      <td>0.0</td>\n",
       "      <td>70</td>\n",
       "      <td>0</td>\n",
       "      <td>1013</td>\n",
       "      <td>1</td>\n",
       "    </tr>\n",
       "    <tr>\n",
       "      <th>3</th>\n",
       "      <td>Chennai</td>\n",
       "      <td>Onion</td>\n",
       "      <td>820</td>\n",
       "      <td>1387</td>\n",
       "      <td>11780</td>\n",
       "      <td>2010</td>\n",
       "      <td>4</td>\n",
       "      <td>30</td>\n",
       "      <td>36</td>\n",
       "      <td>21</td>\n",
       "      <td>0.0</td>\n",
       "      <td>70</td>\n",
       "      <td>6</td>\n",
       "      <td>1008</td>\n",
       "      <td>1</td>\n",
       "    </tr>\n",
       "    <tr>\n",
       "      <th>4</th>\n",
       "      <td>Chennai</td>\n",
       "      <td>Onion</td>\n",
       "      <td>833</td>\n",
       "      <td>1463</td>\n",
       "      <td>12320</td>\n",
       "      <td>2010</td>\n",
       "      <td>5</td>\n",
       "      <td>33</td>\n",
       "      <td>29</td>\n",
       "      <td>12</td>\n",
       "      <td>3.6</td>\n",
       "      <td>73</td>\n",
       "      <td>38</td>\n",
       "      <td>1010</td>\n",
       "      <td>1</td>\n",
       "    </tr>\n",
       "  </tbody>\n",
       "</table>\n",
       "</div>"
      ],
      "text/plain": [
       "     Center   Item  Min Price  Max Price  Total Arrival  Year  Month  \\\n",
       "0  Chennai   Onion       1902       3089          12860  2010      1   \n",
       "1  Chennai   Onion       1589       2409          11570  2010      2   \n",
       "2  Chennai   Onion       1122       1968          12680  2010      3   \n",
       "3  Chennai   Onion        820       1387          11780  2010      4   \n",
       "4  Chennai   Onion        833       1463          12320  2010      5   \n",
       "\n",
       "   Min Temp  Max Temp  Wind Speed( )  RainFall(   )  Humidity( )  Cloud( )  \\\n",
       "0        24        27             19            0.7           75        24   \n",
       "1        28        24              9            0.0           73         1   \n",
       "2        25        31             12            0.0           70         0   \n",
       "3        30        36             21            0.0           70         6   \n",
       "4        33        29             12            3.6           73        38   \n",
       "\n",
       "   Pressure(  )  Yield  \n",
       "0          1012      0  \n",
       "1          1015      1  \n",
       "2          1013      1  \n",
       "3          1008      1  \n",
       "4          1010      1  "
      ]
     },
     "execution_count": 57,
     "metadata": {},
     "output_type": "execute_result"
    }
   ],
   "source": [
    "dt = pd.read_csv('VeggiePriceOAC.csv')\n",
    "dt.head()"
   ]
  },
  {
   "cell_type": "code",
   "execution_count": 58,
   "metadata": {},
   "outputs": [],
   "source": [
    "#Data cleaning\n",
    "dt.iloc[:,:-1]= dt.iloc[:,:-1].replace(0, np.nan)\n",
    "dt.iloc[:,:-2]= dt.iloc[:,:-2].fillna(dt.iloc[:,:-2].groupby('Center').transform('mean'))\n",
    "#dt.iloc[:,2:]= dt.iloc[:,2:].replace(0,dt.iloc[:,2:].mean())"
   ]
  },
  {
   "cell_type": "markdown",
   "metadata": {},
   "source": [
    "# Given Climatic Conditions"
   ]
  },
  {
   "cell_type": "code",
   "execution_count": 59,
   "metadata": {},
   "outputs": [],
   "source": [
    "#split into input and output sets\n",
    "X = dt.drop(columns=[\"Item\", \"Total Arrival\", \"Yield\", \"Year\", \"Min Price\", \"Max Price\"])\n",
    "Y = dt[\"Yield\"]"
   ]
  },
  {
   "cell_type": "code",
   "execution_count": 60,
   "metadata": {},
   "outputs": [],
   "source": [
    "#one-hot encoding 'Center'\n",
    "X_new = pd.get_dummies(X, columns=['Center'])"
   ]
  },
  {
   "cell_type": "code",
   "execution_count": 61,
   "metadata": {},
   "outputs": [],
   "source": [
    "#Split data into training and testing sets\n",
    "X_train, X_test, y_train, y_test = train_test_split(X_new,Y,test_size=0.1, random_state=100)"
   ]
  },
  {
   "cell_type": "markdown",
   "metadata": {},
   "source": [
    "# Given Market Price "
   ]
  },
  {
   "cell_type": "code",
   "execution_count": 78,
   "metadata": {},
   "outputs": [],
   "source": [
    "#split into input and output sets\n",
    "X1 = dt.drop(columns=[\"Item\", \"Yield\", \"Total Arrival\", \"Year\", \"Min Temp\", \"Max Temp\", \"Wind Speed( )\", \"Humidity( )\", \"Cloud( )\", \"RainFall(   )\", \"Pressure(  )\"])\n",
    "Y1 = dt[\"Yield\"]"
   ]
  },
  {
   "cell_type": "code",
   "execution_count": 79,
   "metadata": {},
   "outputs": [],
   "source": [
    "#one-hot encoding 'Center'\n",
    "X1_new = pd.get_dummies(X1, columns=['Center'])"
   ]
  },
  {
   "cell_type": "code",
   "execution_count": 86,
   "metadata": {},
   "outputs": [],
   "source": [
    "#Split data into training and testing sets\n",
    "X_train, X_test, y_train, y_test = train_test_split(X1_new,Y1,test_size=0.1, random_state=100)"
   ]
  },
  {
   "cell_type": "code",
   "execution_count": 26,
   "metadata": {},
   "outputs": [
    {
     "data": {
      "text/plain": [
       "86"
      ]
     },
     "execution_count": 26,
     "metadata": {},
     "output_type": "execute_result"
    }
   ],
   "source": [
    "y_test.size"
   ]
  },
  {
   "cell_type": "markdown",
   "metadata": {},
   "source": [
    "# Given Availability of Crop"
   ]
  },
  {
   "cell_type": "code",
   "execution_count": 91,
   "metadata": {},
   "outputs": [],
   "source": [
    "#split into input and output sets\n",
    "X2 = dt.drop(columns=[\"Item\", \"Yield\", \"Year\", \"Min Temp\", \"Max Temp\", \"Wind Speed( )\", \"Humidity( )\", \"Cloud( )\", \"RainFall(   )\", \"Pressure(  )\", \"Min Price\", \"Max Price\"])\n",
    "Y2 = dt[\"Yield\"]"
   ]
  },
  {
   "cell_type": "code",
   "execution_count": 92,
   "metadata": {},
   "outputs": [],
   "source": [
    "#one-hot encoding 'Center'\n",
    "X2_new = pd.get_dummies(X2, columns=['Center'])"
   ]
  },
  {
   "cell_type": "code",
   "execution_count": 103,
   "metadata": {},
   "outputs": [],
   "source": [
    "#Split data into training and testing sets\n",
    "X_train, X_test, y_train, y_test = train_test_split(X2_new,Y1,test_size=0.3, random_state=90)"
   ]
  },
  {
   "cell_type": "markdown",
   "metadata": {},
   "source": [
    "# Running & Evaluating SVM Model "
   ]
  },
  {
   "cell_type": "code",
   "execution_count": 104,
   "metadata": {},
   "outputs": [
    {
     "data": {
      "text/plain": [
       "SVC(kernel='linear')"
      ]
     },
     "execution_count": 104,
     "metadata": {},
     "output_type": "execute_result"
    }
   ],
   "source": [
    "#Run the svm model\n",
    "cls = svm.SVC(kernel=\"linear\")\n",
    "cls.fit(X_train, y_train)"
   ]
  },
  {
   "cell_type": "code",
   "execution_count": 105,
   "metadata": {},
   "outputs": [
    {
     "data": {
      "text/plain": [
       "0.872093023255814"
      ]
     },
     "execution_count": 105,
     "metadata": {},
     "output_type": "execute_result"
    }
   ],
   "source": [
    "cls.score(X_test, y_test)"
   ]
  },
  {
   "cell_type": "code",
   "execution_count": 106,
   "metadata": {},
   "outputs": [
    {
     "name": "stdout",
     "output_type": "stream",
     "text": [
      "Accuracy:  0.872093023255814\n",
      "Precision:  0.9111111111111111\n",
      "Recall:  0.8541666666666666\n",
      "\n",
      "\n",
      "              precision    recall  f1-score   support\n",
      "\n",
      "           0       0.83      0.89      0.86        38\n",
      "           1       0.91      0.85      0.88        48\n",
      "\n",
      "    accuracy                           0.87        86\n",
      "   macro avg       0.87      0.87      0.87        86\n",
      "weighted avg       0.87      0.87      0.87        86\n",
      "\n"
     ]
    }
   ],
   "source": [
    "#Evaluate the model\n",
    "pred = cls.predict(X_test)\n",
    "print(\"Accuracy: \", metrics.accuracy_score(y_test,y_pred=pred))\n",
    "print(\"Precision: \", metrics.precision_score(y_test,y_pred=pred))\n",
    "print(\"Recall: \", metrics.recall_score(y_test,y_pred=pred))\n",
    "print(\"\\n\")\n",
    "print(metrics.classification_report(y_test,y_pred=pred))"
   ]
  },
  {
   "cell_type": "code",
   "execution_count": 107,
   "metadata": {},
   "outputs": [
    {
     "data": {
      "text/plain": [
       "<sklearn.metrics._plot.confusion_matrix.ConfusionMatrixDisplay at 0x23b69f91d60>"
      ]
     },
     "execution_count": 107,
     "metadata": {},
     "output_type": "execute_result"
    },
    {
     "data": {
      "image/png": "[encoded data removed]",
      "text/plain": [
       "<Figure size 432x288 with 2 Axes>"
      ]
     },
     "metadata": {
      "needs_background": "light"
     },
     "output_type": "display_data"
    }
   ],
   "source": [
    "#Plot the confusion matrix\n",
    "from sklearn.metrics import plot_confusion_matrix\n",
    "plot_confusion_matrix(cls,X_test,y_test,values_format='d')"
   ]
  },
  {
   "cell_type": "code",
   "execution_count": null,
   "metadata": {},
   "outputs": [],
   "source": []
  }
 ],
 "metadata": {
  "kernelspec": {
   "display_name": "Python 3",
   "language": "python",
   "name": "python3"
  },
  "language_info": {
   "codemirror_mode": {
    "name": "ipython",
    "version": 3
   },
   "file_extension": ".py",
   "mimetype": "text/x-python",
   "name": "python",
   "nbconvert_exporter": "python",
   "pygments_lexer": "ipython3",
   "version": "3.8.5"
  }
 },
 "nbformat": 4,
 "nbformat_minor": 4
}
